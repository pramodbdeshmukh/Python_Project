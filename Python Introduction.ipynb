{
 "cells": [
  {
   "cell_type": "code",
   "execution_count": 2,
   "id": "41390174",
   "metadata": {},
   "outputs": [],
   "source": [
    "#Data Type/Data Structure"
   ]
  },
  {
   "cell_type": "code",
   "execution_count": 5,
   "id": "497eb7ba",
   "metadata": {},
   "outputs": [
    {
     "data": {
      "text/plain": [
       "10"
      ]
     },
     "execution_count": 5,
     "metadata": {},
     "output_type": "execute_result"
    }
   ],
   "source": [
    "a"
   ]
  },
  {
   "cell_type": "markdown",
   "id": "67448131",
   "metadata": {},
   "source": [
    "# this is the example for markdown"
   ]
  },
  {
   "cell_type": "code",
   "execution_count": 6,
   "id": "0628b50b",
   "metadata": {},
   "outputs": [],
   "source": [
    "a = 10 "
   ]
  },
  {
   "cell_type": "code",
   "execution_count": 7,
   "id": "63166360",
   "metadata": {},
   "outputs": [],
   "source": [
    "b= 20"
   ]
  },
  {
   "cell_type": "code",
   "execution_count": 8,
   "id": "06fd425d",
   "metadata": {},
   "outputs": [],
   "source": [
    "c = a+b"
   ]
  },
  {
   "cell_type": "code",
   "execution_count": 9,
   "id": "4e912d5b",
   "metadata": {},
   "outputs": [
    {
     "data": {
      "text/plain": [
       "30"
      ]
     },
     "execution_count": 9,
     "metadata": {},
     "output_type": "execute_result"
    }
   ],
   "source": [
    "c"
   ]
  },
  {
   "cell_type": "code",
   "execution_count": 10,
   "id": "98013687",
   "metadata": {},
   "outputs": [
    {
     "name": "stdout",
     "output_type": "stream",
     "text": [
      " Volume in drive C is Windows\n",
      " Volume Serial Number is 10B6-0DC8\n",
      "\n",
      " Directory of C:\\Users\\kanti\\OneDrive\\Desktop\\Python 25\n",
      "\n",
      "17/11/2021  20:17    <DIR>          .\n",
      "17/11/2021  20:17    <DIR>          ..\n",
      "17/11/2021  20:09    <DIR>          .ipynb_checkpoints\n",
      "17/11/2021  20:17             2.220 Python Introduction.ipynb\n",
      "               1 File(s)          2.220 bytes\n",
      "               3 Dir(s)  78.925.209.600 bytes free\n"
     ]
    }
   ],
   "source": [
    "ls"
   ]
  },
  {
   "cell_type": "code",
   "execution_count": 11,
   "id": "0bd8e401",
   "metadata": {},
   "outputs": [
    {
     "data": {
      "text/plain": [
       "'C:\\\\Users\\\\kanti\\\\OneDrive\\\\Desktop\\\\Python 25'"
      ]
     },
     "execution_count": 11,
     "metadata": {},
     "output_type": "execute_result"
    }
   ],
   "source": [
    "pwd"
   ]
  },
  {
   "cell_type": "code",
   "execution_count": 12,
   "id": "aecd8217",
   "metadata": {},
   "outputs": [
    {
     "name": "stdout",
     "output_type": "stream",
     "text": [
      "30\n"
     ]
    }
   ],
   "source": [
    "print(c)"
   ]
  },
  {
   "cell_type": "code",
   "execution_count": null,
   "id": "0b98c6b0",
   "metadata": {},
   "outputs": [],
   "source": [
    "#Data Type/Data Structure"
   ]
  },
  {
   "cell_type": "code",
   "execution_count": null,
   "id": "f0084a25",
   "metadata": {},
   "outputs": [],
   "source": [
    "Type of Data\n",
    "integer\n",
    "float\n",
    "string\n",
    "None\n",
    "complex\n",
    "bool"
   ]
  },
  {
   "cell_type": "code",
   "execution_count": 13,
   "id": "aa78bd33",
   "metadata": {},
   "outputs": [],
   "source": [
    "#interger"
   ]
  },
  {
   "cell_type": "code",
   "execution_count": null,
   "id": "3a9f0c7a",
   "metadata": {},
   "outputs": [],
   "source": [
    "Complete numebr without fraction/decimal point"
   ]
  },
  {
   "cell_type": "code",
   "execution_count": null,
   "id": "96e6e62e",
   "metadata": {},
   "outputs": [],
   "source": [
    "100\n",
    "45\n",
    "30\n",
    "67"
   ]
  },
  {
   "cell_type": "code",
   "execution_count": 14,
   "id": "86772a25",
   "metadata": {},
   "outputs": [],
   "source": [
    "a=10"
   ]
  },
  {
   "cell_type": "code",
   "execution_count": 15,
   "id": "003ae1ed",
   "metadata": {},
   "outputs": [
    {
     "data": {
      "text/plain": [
       "int"
      ]
     },
     "execution_count": 15,
     "metadata": {},
     "output_type": "execute_result"
    }
   ],
   "source": [
    "type(a)"
   ]
  },
  {
   "cell_type": "code",
   "execution_count": null,
   "id": "23b917b0",
   "metadata": {},
   "outputs": [],
   "source": [
    "#name of variable /function/class\n",
    "identifiers"
   ]
  },
  {
   "cell_type": "code",
   "execution_count": 16,
   "id": "10f840d9",
   "metadata": {},
   "outputs": [],
   "source": [
    "#Rules to define identifiers"
   ]
  },
  {
   "cell_type": "code",
   "execution_count": null,
   "id": "89b38173",
   "metadata": {},
   "outputs": [],
   "source": [
    "1.allowed character \n",
    "a-z,A-Z,0-9,_"
   ]
  },
  {
   "cell_type": "code",
   "execution_count": 17,
   "id": "3fa2289f",
   "metadata": {},
   "outputs": [],
   "source": [
    "a = 10"
   ]
  },
  {
   "cell_type": "code",
   "execution_count": 18,
   "id": "a64ab6c7",
   "metadata": {},
   "outputs": [
    {
     "data": {
      "text/plain": [
       "10"
      ]
     },
     "execution_count": 18,
     "metadata": {},
     "output_type": "execute_result"
    }
   ],
   "source": [
    "a"
   ]
  },
  {
   "cell_type": "code",
   "execution_count": 19,
   "id": "9b981832",
   "metadata": {},
   "outputs": [],
   "source": [
    "abc = 100"
   ]
  },
  {
   "cell_type": "code",
   "execution_count": 20,
   "id": "bc412513",
   "metadata": {},
   "outputs": [
    {
     "data": {
      "text/plain": [
       "100"
      ]
     },
     "execution_count": 20,
     "metadata": {},
     "output_type": "execute_result"
    }
   ],
   "source": [
    "abc"
   ]
  },
  {
   "cell_type": "code",
   "execution_count": 21,
   "id": "e02386e1",
   "metadata": {},
   "outputs": [],
   "source": [
    "A = 40"
   ]
  },
  {
   "cell_type": "code",
   "execution_count": 22,
   "id": "0b1b103e",
   "metadata": {},
   "outputs": [
    {
     "data": {
      "text/plain": [
       "40"
      ]
     },
     "execution_count": 22,
     "metadata": {},
     "output_type": "execute_result"
    }
   ],
   "source": [
    "A"
   ]
  },
  {
   "cell_type": "code",
   "execution_count": 23,
   "id": "da466d51",
   "metadata": {},
   "outputs": [],
   "source": [
    "a10 = 20"
   ]
  },
  {
   "cell_type": "code",
   "execution_count": 24,
   "id": "04b6edd3",
   "metadata": {},
   "outputs": [
    {
     "data": {
      "text/plain": [
       "20"
      ]
     },
     "execution_count": 24,
     "metadata": {},
     "output_type": "execute_result"
    }
   ],
   "source": [
    "a10 "
   ]
  },
  {
   "cell_type": "code",
   "execution_count": 25,
   "id": "01bcf41d",
   "metadata": {},
   "outputs": [],
   "source": [
    "#2.identifiers never starts with number"
   ]
  },
  {
   "cell_type": "code",
   "execution_count": 26,
   "id": "5ec11b19",
   "metadata": {},
   "outputs": [
    {
     "ename": "SyntaxError",
     "evalue": "invalid syntax (<ipython-input-26-90536fc9fe21>, line 1)",
     "output_type": "error",
     "traceback": [
      "\u001b[1;36m  File \u001b[1;32m\"<ipython-input-26-90536fc9fe21>\"\u001b[1;36m, line \u001b[1;32m1\u001b[0m\n\u001b[1;33m    10a = 100\u001b[0m\n\u001b[1;37m      ^\u001b[0m\n\u001b[1;31mSyntaxError\u001b[0m\u001b[1;31m:\u001b[0m invalid syntax\n"
     ]
    }
   ],
   "source": [
    "10a = 100"
   ]
  },
  {
   "cell_type": "code",
   "execution_count": 27,
   "id": "6ae63e4c",
   "metadata": {},
   "outputs": [],
   "source": [
    "#3.we cant use any special character for identifiers"
   ]
  },
  {
   "cell_type": "code",
   "execution_count": 28,
   "id": "1e49033f",
   "metadata": {},
   "outputs": [
    {
     "ename": "SyntaxError",
     "evalue": "invalid syntax (<ipython-input-28-b13c1bc591e6>, line 1)",
     "output_type": "error",
     "traceback": [
      "\u001b[1;36m  File \u001b[1;32m\"<ipython-input-28-b13c1bc591e6>\"\u001b[1;36m, line \u001b[1;32m1\u001b[0m\n\u001b[1;33m    $a  =10\u001b[0m\n\u001b[1;37m    ^\u001b[0m\n\u001b[1;31mSyntaxError\u001b[0m\u001b[1;31m:\u001b[0m invalid syntax\n"
     ]
    }
   ],
   "source": [
    "$a  =10"
   ]
  },
  {
   "cell_type": "code",
   "execution_count": 29,
   "id": "e7382ba3",
   "metadata": {},
   "outputs": [],
   "source": [
    "_a = 10"
   ]
  },
  {
   "cell_type": "code",
   "execution_count": 30,
   "id": "39b3afff",
   "metadata": {},
   "outputs": [
    {
     "data": {
      "text/plain": [
       "10"
      ]
     },
     "execution_count": 30,
     "metadata": {},
     "output_type": "execute_result"
    }
   ],
   "source": [
    "_a"
   ]
  },
  {
   "cell_type": "code",
   "execution_count": 31,
   "id": "1511c940",
   "metadata": {},
   "outputs": [],
   "source": [
    "__x = 100"
   ]
  },
  {
   "cell_type": "code",
   "execution_count": 32,
   "id": "486a628f",
   "metadata": {},
   "outputs": [
    {
     "data": {
      "text/plain": [
       "100"
      ]
     },
     "execution_count": 32,
     "metadata": {},
     "output_type": "execute_result"
    }
   ],
   "source": [
    "__x"
   ]
  },
  {
   "cell_type": "code",
   "execution_count": 33,
   "id": "1ba3f9a0",
   "metadata": {},
   "outputs": [],
   "source": [
    "#4.any length variable you can define"
   ]
  },
  {
   "cell_type": "code",
   "execution_count": 34,
   "id": "89444427",
   "metadata": {},
   "outputs": [],
   "source": [
    "aaaaaaaaaaaaaaaaaaaaaaaaaaaaaaaaaaaaaaaaaaa=100"
   ]
  },
  {
   "cell_type": "code",
   "execution_count": 35,
   "id": "f35ba9fb",
   "metadata": {},
   "outputs": [
    {
     "data": {
      "text/plain": [
       "100"
      ]
     },
     "execution_count": 35,
     "metadata": {},
     "output_type": "execute_result"
    }
   ],
   "source": [
    "aaaaaaaaaaaaaaaaaaaaaaaaaaaaaaaaaaaaaaaaaaa"
   ]
  },
  {
   "cell_type": "code",
   "execution_count": 36,
   "id": "79085468",
   "metadata": {},
   "outputs": [],
   "source": [
    "py_list = 100"
   ]
  },
  {
   "cell_type": "code",
   "execution_count": 37,
   "id": "05505f55",
   "metadata": {},
   "outputs": [],
   "source": [
    "#5.we cannt use keyword as identifers"
   ]
  },
  {
   "cell_type": "code",
   "execution_count": 38,
   "id": "ff6f2c01",
   "metadata": {},
   "outputs": [],
   "source": [
    "#keyword"
   ]
  },
  {
   "cell_type": "code",
   "execution_count": 39,
   "id": "267d9b28",
   "metadata": {},
   "outputs": [],
   "source": []
  },
  {
   "cell_type": "code",
   "execution_count": 40,
   "id": "5636da04",
   "metadata": {},
   "outputs": [],
   "source": [
    "import keyword"
   ]
  },
  {
   "cell_type": "code",
   "execution_count": 41,
   "id": "37a7c0fe",
   "metadata": {},
   "outputs": [
    {
     "data": {
      "text/plain": [
       "['False',\n",
       " 'None',\n",
       " 'True',\n",
       " 'and',\n",
       " 'as',\n",
       " 'assert',\n",
       " 'async',\n",
       " 'await',\n",
       " 'break',\n",
       " 'class',\n",
       " 'continue',\n",
       " 'def',\n",
       " 'del',\n",
       " 'elif',\n",
       " 'else',\n",
       " 'except',\n",
       " 'finally',\n",
       " 'for',\n",
       " 'from',\n",
       " 'global',\n",
       " 'if',\n",
       " 'import',\n",
       " 'in',\n",
       " 'is',\n",
       " 'lambda',\n",
       " 'nonlocal',\n",
       " 'not',\n",
       " 'or',\n",
       " 'pass',\n",
       " 'raise',\n",
       " 'return',\n",
       " 'try',\n",
       " 'while',\n",
       " 'with',\n",
       " 'yield']"
      ]
     },
     "execution_count": 41,
     "metadata": {},
     "output_type": "execute_result"
    }
   ],
   "source": [
    "keyword.kwlist"
   ]
  },
  {
   "cell_type": "code",
   "execution_count": 42,
   "id": "e7d7a734",
   "metadata": {},
   "outputs": [
    {
     "ename": "SyntaxError",
     "evalue": "invalid syntax (<ipython-input-42-dd26dd123d51>, line 1)",
     "output_type": "error",
     "traceback": [
      "\u001b[1;36m  File \u001b[1;32m\"<ipython-input-42-dd26dd123d51>\"\u001b[1;36m, line \u001b[1;32m1\u001b[0m\n\u001b[1;33m    yield = 100\u001b[0m\n\u001b[1;37m          ^\u001b[0m\n\u001b[1;31mSyntaxError\u001b[0m\u001b[1;31m:\u001b[0m invalid syntax\n"
     ]
    }
   ],
   "source": [
    "yield = 100"
   ]
  },
  {
   "cell_type": "code",
   "execution_count": 43,
   "id": "edd1234d",
   "metadata": {},
   "outputs": [
    {
     "ename": "SyntaxError",
     "evalue": "invalid syntax (<ipython-input-43-1bc7e8609df8>, line 1)",
     "output_type": "error",
     "traceback": [
      "\u001b[1;36m  File \u001b[1;32m\"<ipython-input-43-1bc7e8609df8>\"\u001b[1;36m, line \u001b[1;32m1\u001b[0m\n\u001b[1;33m    python variable = 100\u001b[0m\n\u001b[1;37m           ^\u001b[0m\n\u001b[1;31mSyntaxError\u001b[0m\u001b[1;31m:\u001b[0m invalid syntax\n"
     ]
    }
   ],
   "source": [
    "python variable = 100"
   ]
  },
  {
   "cell_type": "code",
   "execution_count": 44,
   "id": "abf42c65",
   "metadata": {},
   "outputs": [],
   "source": [
    "python_variable = 100"
   ]
  },
  {
   "cell_type": "code",
   "execution_count": 45,
   "id": "a1eaebd8",
   "metadata": {},
   "outputs": [
    {
     "data": {
      "text/plain": [
       "100"
      ]
     },
     "execution_count": 45,
     "metadata": {},
     "output_type": "execute_result"
    }
   ],
   "source": [
    "python_variable"
   ]
  },
  {
   "cell_type": "code",
   "execution_count": 46,
   "id": "61158e1c",
   "metadata": {},
   "outputs": [],
   "source": [
    "ksaflknlksnlkslksasdlkasnfklsgnlkfnlkSNFLKSANDLKASNlkasn=1000"
   ]
  },
  {
   "cell_type": "code",
   "execution_count": 47,
   "id": "10c57393",
   "metadata": {},
   "outputs": [
    {
     "data": {
      "text/plain": [
       "1000"
      ]
     },
     "execution_count": 47,
     "metadata": {},
     "output_type": "execute_result"
    }
   ],
   "source": [
    "ksaflknlksnlkslksasdlkasnfklsgnlkfnlkSNFLKSANDLKASNlkasn"
   ]
  },
  {
   "cell_type": "code",
   "execution_count": 48,
   "id": "3220a51a",
   "metadata": {},
   "outputs": [],
   "source": [
    "a =10"
   ]
  },
  {
   "cell_type": "code",
   "execution_count": 49,
   "id": "25887d56",
   "metadata": {},
   "outputs": [],
   "source": [
    "b =100"
   ]
  },
  {
   "cell_type": "code",
   "execution_count": 50,
   "id": "04db50d6",
   "metadata": {},
   "outputs": [],
   "source": [
    "#student level --- real time "
   ]
  },
  {
   "cell_type": "code",
   "execution_count": 51,
   "id": "d9aa465e",
   "metadata": {},
   "outputs": [],
   "source": [
    "#Cases\n",
    "#1.PascalCase\n",
    "#2.camelCase\n",
    "#3.snake_case"
   ]
  },
  {
   "cell_type": "code",
   "execution_count": 52,
   "id": "372ce3e8",
   "metadata": {},
   "outputs": [],
   "source": [
    "#1.PascalCase"
   ]
  },
  {
   "cell_type": "code",
   "execution_count": 54,
   "id": "42c8cb00",
   "metadata": {},
   "outputs": [],
   "source": [
    "ProductId  = 100"
   ]
  },
  {
   "cell_type": "code",
   "execution_count": null,
   "id": "12957b8e",
   "metadata": {},
   "outputs": [],
   "source": []
  },
  {
   "cell_type": "code",
   "execution_count": null,
   "id": "f933617f",
   "metadata": {},
   "outputs": [],
   "source": [
    "GPay,PhonePe,FedEx,PayTm"
   ]
  },
  {
   "cell_type": "code",
   "execution_count": 55,
   "id": "986895ec",
   "metadata": {},
   "outputs": [],
   "source": [
    "#2.camelCase"
   ]
  },
  {
   "cell_type": "code",
   "execution_count": null,
   "id": "77be6ab6",
   "metadata": {},
   "outputs": [],
   "source": [
    "eBay,iPhone,"
   ]
  },
  {
   "cell_type": "code",
   "execution_count": 56,
   "id": "7522ec2d",
   "metadata": {},
   "outputs": [],
   "source": [
    "#3.snake_case"
   ]
  },
  {
   "cell_type": "code",
   "execution_count": null,
   "id": "8e773f9e",
   "metadata": {},
   "outputs": [],
   "source": [
    "py_list \n",
    "py_tuple\n",
    "py_dict_invert_display"
   ]
  },
  {
   "cell_type": "code",
   "execution_count": 60,
   "id": "248f13fa",
   "metadata": {},
   "outputs": [],
   "source": [
    "p_PY_LIST_RATE_PRODUCT = 100"
   ]
  },
  {
   "cell_type": "code",
   "execution_count": 61,
   "id": "d6e29a62",
   "metadata": {},
   "outputs": [
    {
     "data": {
      "text/plain": [
       "100"
      ]
     },
     "execution_count": 61,
     "metadata": {},
     "output_type": "execute_result"
    }
   ],
   "source": [
    "p_PY_LIST_RATE_PRODUCT"
   ]
  },
  {
   "cell_type": "code",
   "execution_count": 62,
   "id": "5f2e91d5",
   "metadata": {},
   "outputs": [],
   "source": [
    "a_100 = 100"
   ]
  },
  {
   "cell_type": "code",
   "execution_count": 63,
   "id": "422425da",
   "metadata": {},
   "outputs": [],
   "source": [
    "a_prod_dem =100"
   ]
  },
  {
   "cell_type": "code",
   "execution_count": 64,
   "id": "5b83f06c",
   "metadata": {},
   "outputs": [
    {
     "data": {
      "text/plain": [
       "100"
      ]
     },
     "execution_count": 64,
     "metadata": {},
     "output_type": "execute_result"
    }
   ],
   "source": [
    "a_prod_dem"
   ]
  },
  {
   "cell_type": "code",
   "execution_count": null,
   "id": "be0491e8",
   "metadata": {},
   "outputs": [],
   "source": [
    "Type of Data\n",
    "integer\n",
    "float\n",
    "string\n",
    "None\n",
    "complex\n",
    "bool"
   ]
  },
  {
   "cell_type": "code",
   "execution_count": 65,
   "id": "e5997a6b",
   "metadata": {},
   "outputs": [],
   "source": [
    "product_id =1000"
   ]
  },
  {
   "cell_type": "code",
   "execution_count": 66,
   "id": "45a75d2c",
   "metadata": {},
   "outputs": [
    {
     "data": {
      "text/plain": [
       "int"
      ]
     },
     "execution_count": 66,
     "metadata": {},
     "output_type": "execute_result"
    }
   ],
   "source": [
    "type(product_id)"
   ]
  },
  {
   "cell_type": "code",
   "execution_count": 67,
   "id": "0cb7073d",
   "metadata": {},
   "outputs": [],
   "source": [
    "#type === method used to find data type"
   ]
  },
  {
   "cell_type": "code",
   "execution_count": 68,
   "id": "b42e7327",
   "metadata": {},
   "outputs": [],
   "source": [
    "#float"
   ]
  },
  {
   "cell_type": "code",
   "execution_count": 69,
   "id": "7342f05c",
   "metadata": {},
   "outputs": [],
   "source": [
    "#number with decimal point"
   ]
  },
  {
   "cell_type": "code",
   "execution_count": 70,
   "id": "e404abed",
   "metadata": {},
   "outputs": [],
   "source": [
    "a = 100.56"
   ]
  },
  {
   "cell_type": "code",
   "execution_count": 71,
   "id": "cdc1317b",
   "metadata": {},
   "outputs": [
    {
     "data": {
      "text/plain": [
       "float"
      ]
     },
     "execution_count": 71,
     "metadata": {},
     "output_type": "execute_result"
    }
   ],
   "source": [
    "type(a)"
   ]
  },
  {
   "cell_type": "code",
   "execution_count": 72,
   "id": "f026220f",
   "metadata": {},
   "outputs": [],
   "source": [
    "a = 'python'"
   ]
  },
  {
   "cell_type": "code",
   "execution_count": 73,
   "id": "46135ee9",
   "metadata": {},
   "outputs": [
    {
     "data": {
      "text/plain": [
       "str"
      ]
     },
     "execution_count": 73,
     "metadata": {},
     "output_type": "execute_result"
    }
   ],
   "source": [
    "type(a)"
   ]
  },
  {
   "cell_type": "code",
   "execution_count": 74,
   "id": "7b93e71d",
   "metadata": {},
   "outputs": [],
   "source": [
    "#int - complete number\n",
    "#float -- incomplete/number with decimal point\n",
    "#str -- collection of char "
   ]
  },
  {
   "cell_type": "code",
   "execution_count": null,
   "id": "b5684ebf",
   "metadata": {},
   "outputs": [],
   "source": [
    "1.Question\n",
    "2.Package"
   ]
  },
  {
   "cell_type": "code",
   "execution_count": null,
   "id": "21ecab96",
   "metadata": {},
   "outputs": [],
   "source": []
  },
  {
   "cell_type": "code",
   "execution_count": null,
   "id": "c8a89070",
   "metadata": {},
   "outputs": [],
   "source": []
  },
  {
   "cell_type": "code",
   "execution_count": null,
   "id": "7103bc22",
   "metadata": {},
   "outputs": [],
   "source": []
  }
 ],
 "metadata": {
  "kernelspec": {
   "display_name": "Python 3",
   "language": "python",
   "name": "python3"
  },
  "language_info": {
   "codemirror_mode": {
    "name": "ipython",
    "version": 3
   },
   "file_extension": ".py",
   "mimetype": "text/x-python",
   "name": "python",
   "nbconvert_exporter": "python",
   "pygments_lexer": "ipython3",
   "version": "3.8.8"
  }
 },
 "nbformat": 4,
 "nbformat_minor": 5
}
